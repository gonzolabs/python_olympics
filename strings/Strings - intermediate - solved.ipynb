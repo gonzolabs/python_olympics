{
 "cells": [
  {
   "cell_type": "markdown",
   "metadata": {},
   "source": [
    "## Python poetry"
   ]
  },
  {
   "cell_type": "markdown",
   "metadata": {},
   "source": [
    "You find yourself in a dark, wet cave. There is a heavy door with a mushroom growing on it. (Or is that an ear?)\n",
    "\n",
    "Nailed to the door is a poem by Emily Dickinson:\n",
    "\n",
    "    a narrow fellow in the grass\n",
    "    occasionally rides;\n",
    "    you may have met him, did you not,\n",
    "    his notice sudden is.\n",
    "\n",
    "    the grass divides as with a comb,\n",
    "    a spotted shaft is seen;\n",
    "    and then it closes at your feet\n",
    "    and opens further on.\n",
    "\n",
    "    he likes a boggy acre,\n",
    "    a floor too cool for corn.\n",
    "    yet when a child, and barefoot,\n",
    "    i more than once, at morn,\n",
    "\n",
    "    have passed, i thought, a whip-lash\n",
    "    unbraiding in the sun,\n",
    "    when, stooping to secure it,\n",
    "    it wrinkled, and was gone.\n",
    "\n",
    "    several of nature's people\n",
    "    i know, and they know me;\n",
    "    i feel for them a transport\n",
    "    of cordiality;\n",
    "\n",
    "    but never met this fellow,\n",
    "    attended or alone,\n",
    "    without a tighter breathing,\n",
    "    and zero at the bone.\n",
    "\n",
    "Below the poem is a riddle:\n",
    "\n",
    "    How are you so smart? Is it because...\n",
    "    [16, 3, 4, 4, 29, 5, 0, 5, 19, 4, 2, 3, 13, 1, 7, 9, 4, 22, 3, 6, 16, 0, 2, 5]\n",
    "\n",
    "and below that, this hint:\n",
    "\n",
    "    \"a narrow fellow in the grass\"[16] = \"i\""
   ]
  },
  {
   "cell_type": "code",
   "execution_count": 1,
   "metadata": {
    "collapsed": true
   },
   "outputs": [],
   "source": [
    "poem = \"\"\"a narrow fellow in the grass\n",
    "occasionally rides;\n",
    "you may have met him, did you not,\n",
    "his notice sudden is.\n",
    "\n",
    "the grass divides as with a comb,\n",
    "a spotted shaft is seen;\n",
    "and then it closes at your feet\n",
    "and opens further on.\n",
    "\n",
    "he likes a boggy acre,\n",
    "a floor too cool for corn.\n",
    "yet when a child, and barefoot,\n",
    "i more than once, at morn,\n",
    "\n",
    "have passed, i thought, a whip-lash\n",
    "unbraiding in the sun,\n",
    "when, stooping to secure it,\n",
    "it wrinkled, and was gone.\n",
    "\n",
    "several of nature's people\n",
    "i know, and they know me;\n",
    "i feel for them a transport\n",
    "of cordiality;\n",
    "\n",
    "but never met this fellow,\n",
    "attended or alone,\n",
    "without a tighter breathing,\n",
    "and zero at the bone.\"\"\"\n",
    "\n",
    "numbers = [16, 3, 4, 4, 29, 5, 0, 5, 19, 4, 2, 3, 13, 1, 7, 9, 4, 22, 3, 6, 16, 0, 2, 5]"
   ]
  },
  {
   "cell_type": "code",
   "execution_count": 2,
   "metadata": {
    "collapsed": true
   },
   "outputs": [],
   "source": [
    "def smartypants(poem, numbers):\n",
    "    # to do: decipher poem using numbers\n",
    "    poem = [i for i in poem.splitlines() if len(i) > 3]\n",
    "    some_string = \"\"\n",
    "    for n, line in enumerate(poem):\n",
    "        some_string += line[numbers[n]]\n",
    "    print(some_string)"
   ]
  },
  {
   "cell_type": "code",
   "execution_count": 3,
   "metadata": {
    "answer_key": "smartypants",
    "collapsed": false
   },
   "outputs": [
    {
     "name": "stdout",
     "output_type": "stream",
     "text": [
      "iamnotaprotointermediate\n"
     ]
    }
   ],
   "source": [
    "smartypants(poem, numbers)"
   ]
  }
 ],
 "metadata": {
  "kernelspec": {
   "display_name": "Python 3",
   "language": "python",
   "name": "python3"
  },
  "language_info": {
   "codemirror_mode": {
    "name": "ipython",
    "version": 3
   },
   "file_extension": ".py",
   "mimetype": "text/x-python",
   "name": "python",
   "nbconvert_exporter": "python",
   "pygments_lexer": "ipython3",
   "version": "3.4.4"
  },
  "notebook_key": "strings"
 },
 "nbformat": 4,
 "nbformat_minor": 0
}
