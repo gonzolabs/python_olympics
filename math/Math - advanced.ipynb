{
 "cells": [
  {
   "cell_type": "markdown",
   "metadata": {},
   "source": [
    "## Python mathletics"
   ]
  },
  {
   "cell_type": "markdown",
   "metadata": {},
   "source": [
    "Consider these base-10 digits: \n",
    "\n",
    "`123456789`\n",
    "\n",
    "If you insert spaces between them, you get sequences of different numbers:\n",
    "\n",
    "`1 2 3 4 5 6 7 8 9\n",
    "12 3 4 5 67 8 9\n",
    "1 2 34 5 6 7 89\n",
    "12 34 56 78 9\n",
    "1 23456 78 9\n",
    "12345 6789\n",
    "etc.`\n",
    "\n",
    "Now let's insert a maximum of 8 addition or subtraction operators between the numbers, like this:\n",
    "\n",
    "`1+2+3+4+5+6+7-8+9\n",
    "12-3+4+5-67-8+9\n",
    "1+2+34+5-6-7-89\n",
    "12-34+56+78+9\n",
    "1+23456-78-9\n",
    "12345+6789\n",
    "etc.`\n",
    "\n",
    "Notice that those arithmetic expressions equate to different values:\n",
    "\n",
    "`1+2+3+4+5+6+7-8+9 = 29\n",
    "12-3+4+5-67-8+9 = -48\n",
    "1+2+34+5-6-7-89 = -60\n",
    "12-34+56+78+9 = 121\n",
    "1+23456-78-9 = 23370\n",
    "12345+6789 = 19134\n",
    "etc.`\n",
    "\n",
    "If you generated all possible expressions, how many sum to 100?"
   ]
  },
  {
   "cell_type": "code",
   "execution_count": null,
   "metadata": {
    "collapsed": true
   },
   "outputs": [],
   "source": [
    "def find_expressions(target_sum, digits):\n",
    "    # to do: generate all the arithmetic expressions from digits\n",
    "    #        evaluate each to get its sum\n",
    "    #        return the number of expressions that sum to target_sum\n",
    "    return sums"
   ]
  },
  {
   "cell_type": "code",
   "execution_count": null,
   "metadata": {
    "answer_key": "find_expressions",
    "collapsed": true
   },
   "outputs": [],
   "source": [
    "find_expressions(100, digits)"
   ]
  }
 ],
 "metadata": {
  "kernelspec": {
   "display_name": "Python 3",
   "language": "python",
   "name": "python3"
  },
  "language_info": {
   "codemirror_mode": {
    "name": "ipython",
    "version": 3
   },
   "file_extension": ".py",
   "mimetype": "text/x-python",
   "name": "python",
   "nbconvert_exporter": "python",
   "pygments_lexer": "ipython3",
   "version": "3.4.4"
  },
  "notebook_key": "math"
 },
 "nbformat": 4,
 "nbformat_minor": 0
}
