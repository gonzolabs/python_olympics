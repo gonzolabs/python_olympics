{
 "cells": [
  {
   "cell_type": "markdown",
   "metadata": {},
   "source": [
    "## Python mathletics"
   ]
  },
  {
   "cell_type": "markdown",
   "metadata": {},
   "source": [
    "Palindromic numbers are symmetric sequences of digits. They look like this:\n",
    "\n",
    "`33\n",
    "101\n",
    "123321\n",
    "829434928`\n",
    "\n",
    "What is the largest palindromic number that is divisible by 7 and is 7 digits long?"
   ]
  },
  {
   "cell_type": "code",
   "execution_count": 2,
   "metadata": {
    "collapsed": false
   },
   "outputs": [],
   "source": [
    "def find_magic_palindrome(magic_number):\n",
    "    # to do: find all numbers that have magic_number digits\n",
    "    #        and are divisible by magic_number\n",
    "    #        and are palindromic.\n",
    "    #        Then, return the largest of them.\n",
    "    #        Bonus if you find a way to do this FAST.\n",
    "    return max_palindrome"
   ]
  },
  {
   "cell_type": "code",
   "execution_count": null,
   "metadata": {
    "answer_key": "magic_palindrome",
    "collapsed": true
   },
   "outputs": [],
   "source": [
    "find_magic_palindrome(7)"
   ]
  }
 ],
 "metadata": {
  "kernelspec": {
   "display_name": "Python 3",
   "language": "python",
   "name": "python3"
  },
  "language_info": {
   "codemirror_mode": {
    "name": "ipython",
    "version": 3
   },
   "file_extension": ".py",
   "mimetype": "text/x-python",
   "name": "python",
   "nbconvert_exporter": "python",
   "pygments_lexer": "ipython3",
   "version": "3.4.4"
  },
  "notebook_key": "math"
 },
 "nbformat": 4,
 "nbformat_minor": 0
}
