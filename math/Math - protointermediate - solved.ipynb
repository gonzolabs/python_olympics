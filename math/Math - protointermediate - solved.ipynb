{
 "cells": [
  {
   "cell_type": "markdown",
   "metadata": {},
   "source": [
    "## Python mathletics"
   ]
  },
  {
   "cell_type": "markdown",
   "metadata": {},
   "source": [
    "Palindromic numbers are symmetric sequences of digits. They look like this:\n",
    "\n",
    "`33\n",
    "101\n",
    "123321\n",
    "829434928`\n",
    "\n",
    "What is the largest palindromic number that is divisible by 7 and is 7 digits long?"
   ]
  },
  {
   "cell_type": "code",
   "execution_count": 8,
   "metadata": {
    "collapsed": false
   },
   "outputs": [],
   "source": [
    "def check_palindrome(num):\n",
    "    return str(num) == str(num)[::-1]\n",
    "\n",
    "def find_magic_palindrome(magic_number):\n",
    "    for i in range(10 ** magic_number + magic_number, -1, -1):\n",
    "        if i % magic_number == 0 and check_palindrome(i) and len(str(i)) == magic_number:\n",
    "            return i"
   ]
  },
  {
   "cell_type": "code",
   "execution_count": 9,
   "metadata": {
    "answer_key": "max_palindrome",
    "collapsed": false
   },
   "outputs": [
    {
     "data": {
      "text/plain": [
       "9994999"
      ]
     },
     "execution_count": 9,
     "metadata": {},
     "output_type": "execute_result"
    }
   ],
   "source": [
    "find_magic_palindrome(7)"
   ]
  }
 ],
 "metadata": {
  "kernelspec": {
   "display_name": "Python 3",
   "language": "python",
   "name": "python3"
  },
  "language_info": {
   "codemirror_mode": {
    "name": "ipython",
    "version": 3
   },
   "file_extension": ".py",
   "mimetype": "text/x-python",
   "name": "python",
   "nbconvert_exporter": "python",
   "pygments_lexer": "ipython3",
   "version": "3.4.4"
  },
  "notebook_key": "math"
 },
 "nbformat": 4,
 "nbformat_minor": 0
}
