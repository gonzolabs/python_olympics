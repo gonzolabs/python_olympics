{
 "cells": [
  {
   "cell_type": "markdown",
   "metadata": {},
   "source": [
    "## Python mathletics"
   ]
  },
  {
   "cell_type": "markdown",
   "metadata": {},
   "source": [
    "Consider these base-10 digits: \n",
    "\n",
    "`123456789`\n",
    "\n",
    "If you insert spaces between them, you get sequences of different numbers:\n",
    "\n",
    "`1 2 3 4 5 6 7 8 9\n",
    "12 3 4 5 67 8 9\n",
    "1 2 34 5 6 7 89\n",
    "12 34 56 78 9\n",
    "1 23456 78 9\n",
    "12345 6789\n",
    "etc.`\n",
    "\n",
    "Now let's insert a maximum of 8 addition or subtraction operators between the numbers, like this:\n",
    "\n",
    "`1+2+3+4+5+6+7-8+9\n",
    "12-3+4+5-67-8+9\n",
    "1+2+34+5-6-7-89\n",
    "12-34+56+78+9\n",
    "1+23456-78-9\n",
    "12345+6789\n",
    "etc.`\n",
    "\n",
    "Notice that those arithmetic expressions equate to different values:\n",
    "\n",
    "`1+2+3+4+5+6+7-8+9 = 29\n",
    "12-3+4+5-67-8+9 = -48\n",
    "1+2+34+5-6-7-89 = -60\n",
    "12-34+56+78+9 = 121\n",
    "1+23456-78-9 = 23370\n",
    "12345+6789 = 19134\n",
    "etc.`\n",
    "\n",
    "If you generated all possible expressions, how many sum to 100?"
   ]
  },
  {
   "cell_type": "code",
   "execution_count": 4,
   "metadata": {
    "collapsed": false
   },
   "outputs": [],
   "source": [
    "from itertools import product\n",
    "\n",
    "# https://github.com/BostonPython/puzzles/blob/gh-pages/solutions/joshmcgrath08/hotdate.py\n",
    "\n",
    "digits = [i for i in map(str, range (1, 10))]\n",
    "# alternate the elements of two lists, until both lists exhausted\n",
    "def alternate (l1, l2):\n",
    "    len_l1 = len (l1)\n",
    "    len_l2 = len (l2)\n",
    "    l = []\n",
    "    for i in range (max (len_l1, len_l2)):\n",
    "        if i < len_l1:\n",
    "            l.append(l1[i])\n",
    "        if i < len_l2:\n",
    "            l.append(l2[i])\n",
    "    return l\n",
    "\n",
    "# given a list of strings and an iterator to strings, return\n",
    "# an iterator to strings where a value from the iterator arg is\n",
    "# inserted between each adjacent pairs of elements in the list arg\n",
    "def itr_intersperse (l, itr):\n",
    "    for x in product (itr, repeat=len (l) - 1):\n",
    "        yield ''.join(alternate (l, x))\n",
    "\n",
    "\n",
    "def itr_len(itr):\n",
    "    c = 0\n",
    "    for i in itr:\n",
    "        c += 1\n",
    "    return c\n",
    "\n",
    "# returns an iterator to expressions that sum to n\n",
    "def expr_sum(n):\n",
    "    return filter (lambda x: eval(x) == n, itr_intersperse(digits, ['', '+', '-']))\n",
    "    \n",
    "def find_expressions(target_sum):\n",
    "    # to do: generate all the arithmetic expressions from digits\n",
    "    #        evaluate each to get its sum\n",
    "    #        return the number of expressions that sum to target_sum\n",
    "    return itr_len(expr_sum(100))"
   ]
  },
  {
   "cell_type": "code",
   "execution_count": 5,
   "metadata": {
    "answer_key": "find_expressions",
    "collapsed": false,
    "scrolled": true
   },
   "outputs": [
    {
     "data": {
      "text/plain": [
       "11"
      ]
     },
     "execution_count": 5,
     "metadata": {},
     "output_type": "execute_result"
    }
   ],
   "source": [
    "find_expressions(100)"
   ]
  }
 ],
 "metadata": {
  "kernelspec": {
   "display_name": "Python 3",
   "language": "python",
   "name": "python3"
  },
  "language_info": {
   "codemirror_mode": {
    "name": "ipython",
    "version": 3
   },
   "file_extension": ".py",
   "mimetype": "text/x-python",
   "name": "python",
   "nbconvert_exporter": "python",
   "pygments_lexer": "ipython3",
   "version": "3.4.4"
  },
  "notebook_key": "math"
 },
 "nbformat": 4,
 "nbformat_minor": 0
}
