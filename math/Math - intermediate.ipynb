{
 "cells": [
  {
   "cell_type": "markdown",
   "metadata": {},
   "source": [
    "## Python mathletics"
   ]
  },
  {
   "cell_type": "markdown",
   "metadata": {},
   "source": [
    "The crowds have been gathering here for hours in the tiny town of Collatz. The loud speaker fires up and the mayor finally kicks off the event. \"Welcome to the 78th annual Collatz Dash!\"\n",
    "\n",
    "Every March 4th, the people of Collatz run a foot race down Conway Street, the main drag in the center of town. This year, there are 100 people racing, one of each age from 4 to 103. (Grandpa Thwaites turned 103 this winter and can still hobble along with a cane.) Everyone who isn't in the race bets on the race. (It's the one and only legal gambling event, so everyone goes nuts.)\n",
    "\n",
    "The finish line in front of the Town Hall is marked in chalk with a big numeral \"1\". The numbers increase all along the race course heading north out of town, showing the distance to the finish line in yards.\n",
    "\n",
    "\"Everybody take your mark!\" bellows the mayor.\n",
    "\n",
    "There is no fixed start line. Instead, each runner walks away from the finish line to a distance equal to their age. So the 18 year-old walks out to the 18-yard line, the 36 year-old goes to the 36-yard line, and so on until grandpa Thwaites finally hobbles out to the 103-yard line.\n",
    "\n",
    "The gun fires and the race is on!\n",
    "\n",
    "Of course, people in Collatz don't run straight to the finish line. They used to do it that way, but the winner was always a gloating 3 year-old. Instead, everyone now follows this algorithm in simultaneous turns:\n",
    "\n",
    "    Look at your current yard line (n).\n",
    "    If n is even, immediately advance to the (n / 2) yard line.\n",
    "    If n is odd, go back (n * 3) + 1 yards.\n",
    "\n",
    "The people of Collatz love betting on this race because it's so unpredictable!\n",
    "\n",
    "For example, take a look at last year's nail-biter between Alexa (age 7) and Bob (age 17):\n",
    "\n",
    "    A \tB\n",
    "    7 \t17\n",
    "    22 \t52\n",
    "    11 \t26\n",
    "    34 \t13\n",
    "    17 \t40\n",
    "    52 \t20\n",
    "    26 \t10\n",
    "    13 \t5\n",
    "    40 \t16\n",
    "    20 \t8\n",
    "    10 \t4\n",
    "    5 \t2\n",
    "    16 \t1\n",
    "\n",
    "    Bob wins!\n",
    "\n",
    "...while Carrie (age 8) mopped the floor with Darrin (age 18):\n",
    "\n",
    "    C \tD\n",
    "    8 \t18\n",
    "    4 \t9\n",
    "    2 \t28\n",
    "    1 \t14\n",
    "\n",
    "    Carrie wins!\n",
    "\n",
    "...and every once in a while, you get a surprising tie, as we did with Ed (22) and Fred (23):\n",
    "\n",
    "    E \tF\n",
    "    22 \t23\n",
    "    11 \t70\n",
    "    34 \t35\n",
    "    17 \t106\n",
    "    52 \t53\n",
    "    26 \t160\n",
    "    13 \t80\n",
    "    40 \t40\n",
    "    20 \t20\n",
    "    10 \t10\n",
    "    5   5\n",
    "    16 \t16\n",
    "    8 \t8\n",
    "    4 \t4\n",
    "    2 \t2\n",
    "    1 \t1\n",
    "\n",
    "    It's a tie!\n",
    "\n",
    "Something tells me this race isn't as unpredictable as it seems..."
   ]
  },
  {
   "cell_type": "code",
   "execution_count": 2,
   "metadata": {
    "collapsed": false
   },
   "outputs": [],
   "source": [
    "def collatz(ages):\n",
    "    # to do: run the Collatz race and return the results\n",
    "    return race_results\n",
    "                       \n",
    "def find_loser(race_results):\n",
    "    # to do: Find the person who came in last\n",
    "    return loser\n",
    "                       \n",
    "def max_tie_age_gap(race_results):\n",
    "    # to do: Find the age gaps between people who tie in the race and return size of max gap\n",
    "    return max_gap"
   ]
  },
  {
   "cell_type": "markdown",
   "metadata": {},
   "source": [
    "#### What was the age of the person who finished last? (It's not grandpa Thwaites!)"
   ]
  },
  {
   "cell_type": "code",
   "execution_count": null,
   "metadata": {
    "answer_key": "loser",
    "collapsed": true
   },
   "outputs": [],
   "source": [
    "find_loser(race_results)"
   ]
  },
  {
   "cell_type": "markdown",
   "metadata": {},
   "source": [
    "#### What is the largest age gap between racers who tied?"
   ]
  },
  {
   "cell_type": "code",
   "execution_count": null,
   "metadata": {
    "answer_key": "age_gap",
    "collapsed": true
   },
   "outputs": [],
   "source": [
    "max_tie_age_gap(race_results)"
   ]
  }
 ],
 "metadata": {
  "kernelspec": {
   "display_name": "Python 3",
   "language": "python",
   "name": "python3"
  },
  "language_info": {
   "codemirror_mode": {
    "name": "ipython",
    "version": 3
   },
   "file_extension": ".py",
   "mimetype": "text/x-python",
   "name": "python",
   "nbconvert_exporter": "python",
   "pygments_lexer": "ipython3",
   "version": "3.4.4"
  },
  "notebook_key": "math"
 },
 "nbformat": 4,
 "nbformat_minor": 0
}
