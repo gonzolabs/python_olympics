{
 "cells": [
  {
   "cell_type": "markdown",
   "metadata": {},
   "source": [
    "## Python Olympics time trials"
   ]
  },
  {
   "cell_type": "code",
   "execution_count": 1,
   "metadata": {
    "collapsed": true
   },
   "outputs": [],
   "source": [
    "song = \"\"\"Cheer up, Brian.  You know what they say.\n",
    "Some things in life are bad,\n",
    "They can really make you mad.\n",
    "Other things just make you swear and curse.\n",
    "When you're chewing on life's gristle,\n",
    "Don't grumble, give a wistle!\n",
    "And this'll help things turn out for the best...\n",
    "And always look on the bright side of life!\n",
    " \n",
    "Always look on the bright side of life...\n",
    "If life seems jolly rotten,\n",
    "There's something you've forgotten!\n",
    "And that's to laugh and smile and dance and sing,\n",
    " \n",
    "When you're feeling in the dumps,\n",
    "Don't be silly chumps,\n",
    "Just purse your lips and whistle -- that's the thing!\n",
    "And always look on the bright side of life...\n",
    " \n",
    "Come on!\n",
    " \n",
    "Always look on the bright side of life...\n",
    " \n",
    "For life is quite absurd,\n",
    "And death's the final word.\n",
    "You must always face the curtain with a bow!\n",
    "Forget about your sin -- give the audience a grin,\n",
    "Enjoy it -- it's the last chance anyhow!\n",
    " \n",
    "So always look on the bright side of death!\n",
    "Just before you draw your terminal breath.\n",
    "Life's a piece of shit,\n",
    "When you look at it.\n",
    " \n",
    "Life's a laugh and death's a joke, it's true,\n",
    "You'll see it's all a show,\n",
    "Keep 'em laughing as you go.\n",
    "Just remember that the last laugh is on you!\n",
    " \n",
    "And always look on the bright side of life...\n",
    "Always look on the bright side of life\n",
    "\n",
    "Come on guys, cheer up\n",
    "\n",
    "Always look on the bright side of life...\n",
    "\n",
    "Always look on the bright side of life...\n",
    "\n",
    "Worse things happen at sea you know\n",
    "\n",
    "Always look on the bright side of life...\n",
    "\n",
    "I mean--what have you got to lose?\n",
    "You know, you come from nothing\n",
    "You're going back to nothing\n",
    "What have you lost? Nothing!\n",
    "\n",
    "Always look on the bright side of life...\"\"\""
   ]
  },
  {
   "cell_type": "markdown",
   "metadata": {},
   "source": [
    "### 1. Capitalize things"
   ]
  },
  {
   "cell_type": "code",
   "execution_count": 2,
   "metadata": {
    "collapsed": true
   },
   "outputs": [],
   "source": [
    "def all_caps(song):\n",
    "    # to do: print song with all uppercase characters\n",
    "    song = song.upper()\n",
    "    print(song)"
   ]
  },
  {
   "cell_type": "markdown",
   "metadata": {},
   "source": [
    "#### Run this cell to see if it works:"
   ]
  },
  {
   "cell_type": "code",
   "execution_count": 3,
   "metadata": {
    "answer_key": "all_caps",
    "collapsed": false,
    "scrolled": true
   },
   "outputs": [
    {
     "name": "stdout",
     "output_type": "stream",
     "text": [
      "CHEER UP, BRIAN.  YOU KNOW WHAT THEY SAY.\n",
      "SOME THINGS IN LIFE ARE BAD,\n",
      "THEY CAN REALLY MAKE YOU MAD.\n",
      "OTHER THINGS JUST MAKE YOU SWEAR AND CURSE.\n",
      "WHEN YOU'RE CHEWING ON LIFE'S GRISTLE,\n",
      "DON'T GRUMBLE, GIVE A WISTLE!\n",
      "AND THIS'LL HELP THINGS TURN OUT FOR THE BEST...\n",
      "AND ALWAYS LOOK ON THE BRIGHT SIDE OF LIFE!\n",
      " \n",
      "ALWAYS LOOK ON THE BRIGHT SIDE OF LIFE...\n",
      "IF LIFE SEEMS JOLLY ROTTEN,\n",
      "THERE'S SOMETHING YOU'VE FORGOTTEN!\n",
      "AND THAT'S TO LAUGH AND SMILE AND DANCE AND SING,\n",
      " \n",
      "WHEN YOU'RE FEELING IN THE DUMPS,\n",
      "DON'T BE SILLY CHUMPS,\n",
      "JUST PURSE YOUR LIPS AND WHISTLE -- THAT'S THE THING!\n",
      "AND ALWAYS LOOK ON THE BRIGHT SIDE OF LIFE...\n",
      " \n",
      "COME ON!\n",
      " \n",
      "ALWAYS LOOK ON THE BRIGHT SIDE OF LIFE...\n",
      " \n",
      "FOR LIFE IS QUITE ABSURD,\n",
      "AND DEATH'S THE FINAL WORD.\n",
      "YOU MUST ALWAYS FACE THE CURTAIN WITH A BOW!\n",
      "FORGET ABOUT YOUR SIN -- GIVE THE AUDIENCE A GRIN,\n",
      "ENJOY IT -- IT'S THE LAST CHANCE ANYHOW!\n",
      " \n",
      "SO ALWAYS LOOK ON THE BRIGHT SIDE OF DEATH!\n",
      "JUST BEFORE YOU DRAW YOUR TERMINAL BREATH.\n",
      "LIFE'S A PIECE OF SHIT,\n",
      "WHEN YOU LOOK AT IT.\n",
      " \n",
      "LIFE'S A LAUGH AND DEATH'S A JOKE, IT'S TRUE,\n",
      "YOU'LL SEE IT'S ALL A SHOW,\n",
      "KEEP 'EM LAUGHING AS YOU GO.\n",
      "JUST REMEMBER THAT THE LAST LAUGH IS ON YOU!\n",
      " \n",
      "AND ALWAYS LOOK ON THE BRIGHT SIDE OF LIFE...\n",
      "ALWAYS LOOK ON THE BRIGHT SIDE OF LIFE\n",
      "\n",
      "COME ON GUYS, CHEER UP\n",
      "\n",
      "ALWAYS LOOK ON THE BRIGHT SIDE OF LIFE...\n",
      "\n",
      "ALWAYS LOOK ON THE BRIGHT SIDE OF LIFE...\n",
      "\n",
      "WORSE THINGS HAPPEN AT SEA YOU KNOW\n",
      "\n",
      "ALWAYS LOOK ON THE BRIGHT SIDE OF LIFE...\n",
      "\n",
      "I MEAN--WHAT HAVE YOU GOT TO LOSE?\n",
      "YOU KNOW, YOU COME FROM NOTHING\n",
      "YOU'RE GOING BACK TO NOTHING\n",
      "WHAT HAVE YOU LOST? NOTHING!\n",
      "\n",
      "ALWAYS LOOK ON THE BRIGHT SIDE OF LIFE...\n"
     ]
    }
   ],
   "source": [
    "all_caps(song)"
   ]
  },
  {
   "cell_type": "markdown",
   "metadata": {},
   "source": [
    "### 2. Count things"
   ]
  },
  {
   "cell_type": "code",
   "execution_count": 4,
   "metadata": {
    "collapsed": true
   },
   "outputs": [],
   "source": [
    "def count_life(song):\n",
    "    # to do: print the number of times that the strings \"life\" and \"Life\" occurs in song\n",
    "    count = song.count(\"life\") + song.count(\"Life\")\n",
    "    print(count)"
   ]
  },
  {
   "cell_type": "markdown",
   "metadata": {},
   "source": [
    "#### Run your function below to see if it works:"
   ]
  },
  {
   "cell_type": "code",
   "execution_count": 5,
   "metadata": {
    "answer_key": "count_life",
    "collapsed": false
   },
   "outputs": [
    {
     "name": "stdout",
     "output_type": "stream",
     "text": [
      "16\n"
     ]
    }
   ],
   "source": [
    "count_life(song)"
   ]
  },
  {
   "cell_type": "markdown",
   "metadata": {},
   "source": [
    "### 3. Replace things"
   ]
  },
  {
   "cell_type": "code",
   "execution_count": 6,
   "metadata": {
    "collapsed": true
   },
   "outputs": [],
   "source": [
    "def spamify(song):\n",
    "    # to do: print song with every instance of the string \"life\" replaced with \"spam\" and \"Life\" with \"Spam\"\n",
    "    song = song.replace(\"life\", \"spam\").replace(\"Life\", \"Spam\")\n",
    "    print(song)"
   ]
  },
  {
   "cell_type": "markdown",
   "metadata": {},
   "source": [
    "#### Run your function below to see if it works:"
   ]
  },
  {
   "cell_type": "code",
   "execution_count": 7,
   "metadata": {
    "answer_key": "spamify",
    "collapsed": false,
    "scrolled": true
   },
   "outputs": [
    {
     "name": "stdout",
     "output_type": "stream",
     "text": [
      "Cheer up, Brian.  You know what they say.\n",
      "Some things in spam are bad,\n",
      "They can really make you mad.\n",
      "Other things just make you swear and curse.\n",
      "When you're chewing on spam's gristle,\n",
      "Don't grumble, give a wistle!\n",
      "And this'll help things turn out for the best...\n",
      "And always look on the bright side of spam!\n",
      " \n",
      "Always look on the bright side of spam...\n",
      "If spam seems jolly rotten,\n",
      "There's something you've forgotten!\n",
      "And that's to laugh and smile and dance and sing,\n",
      " \n",
      "When you're feeling in the dumps,\n",
      "Don't be silly chumps,\n",
      "Just purse your lips and whistle -- that's the thing!\n",
      "And always look on the bright side of spam...\n",
      " \n",
      "Come on!\n",
      " \n",
      "Always look on the bright side of spam...\n",
      " \n",
      "For spam is quite absurd,\n",
      "And death's the final word.\n",
      "You must always face the curtain with a bow!\n",
      "Forget about your sin -- give the audience a grin,\n",
      "Enjoy it -- it's the last chance anyhow!\n",
      " \n",
      "So always look on the bright side of death!\n",
      "Just before you draw your terminal breath.\n",
      "Spam's a piece of shit,\n",
      "When you look at it.\n",
      " \n",
      "Spam's a laugh and death's a joke, it's true,\n",
      "You'll see it's all a show,\n",
      "Keep 'em laughing as you go.\n",
      "Just remember that the last laugh is on you!\n",
      " \n",
      "And always look on the bright side of spam...\n",
      "Always look on the bright side of spam\n",
      "\n",
      "Come on guys, cheer up\n",
      "\n",
      "Always look on the bright side of spam...\n",
      "\n",
      "Always look on the bright side of spam...\n",
      "\n",
      "Worse things happen at sea you know\n",
      "\n",
      "Always look on the bright side of spam...\n",
      "\n",
      "I mean--what have you got to lose?\n",
      "You know, you come from nothing\n",
      "You're going back to nothing\n",
      "What have you lost? Nothing!\n",
      "\n",
      "Always look on the bright side of spam...\n"
     ]
    }
   ],
   "source": [
    "spamify(song)"
   ]
  },
  {
   "cell_type": "markdown",
   "metadata": {},
   "source": [
    "### 4. Sort things"
   ]
  },
  {
   "cell_type": "code",
   "execution_count": 8,
   "metadata": {
    "answer_key": "alphabetize",
    "collapsed": true
   },
   "outputs": [],
   "source": [
    "def alphabetize(song):\n",
    "    # to do: print song with its lines ordered alphabetically and without blank lines.\n",
    "    # for example, with this input string:\n",
    "    #\n",
    "    # \"\"\"And always look on the bright side of life!\n",
    "    #\n",
    "    # Always look on the bright side of life...\"\"\"\n",
    "    #\n",
    "    # ---> this string is printed --->\n",
    "    #\n",
    "    # \"\"\"Always look on the bright side of life...\n",
    "    # And always look on the bright side of life!\"\"\"\n",
    "    song = sorted(song.splitlines())\n",
    "    song = [i for i in song if len(i) > 3]\n",
    "    song = \"\\n\".join(song)\n",
    "    print(song)"
   ]
  },
  {
   "cell_type": "code",
   "execution_count": 9,
   "metadata": {
    "answer_key": "alphabetize",
    "collapsed": false
   },
   "outputs": [
    {
     "name": "stdout",
     "output_type": "stream",
     "text": [
      "Always look on the bright side of life\n",
      "Always look on the bright side of life...\n",
      "Always look on the bright side of life...\n",
      "Always look on the bright side of life...\n",
      "Always look on the bright side of life...\n",
      "Always look on the bright side of life...\n",
      "Always look on the bright side of life...\n",
      "And always look on the bright side of life!\n",
      "And always look on the bright side of life...\n",
      "And always look on the bright side of life...\n",
      "And death's the final word.\n",
      "And that's to laugh and smile and dance and sing,\n",
      "And this'll help things turn out for the best...\n",
      "Cheer up, Brian.  You know what they say.\n",
      "Come on guys, cheer up\n",
      "Come on!\n",
      "Don't be silly chumps,\n",
      "Don't grumble, give a wistle!\n",
      "Enjoy it -- it's the last chance anyhow!\n",
      "For life is quite absurd,\n",
      "Forget about your sin -- give the audience a grin,\n",
      "I mean--what have you got to lose?\n",
      "If life seems jolly rotten,\n",
      "Just before you draw your terminal breath.\n",
      "Just purse your lips and whistle -- that's the thing!\n",
      "Just remember that the last laugh is on you!\n",
      "Keep 'em laughing as you go.\n",
      "Life's a laugh and death's a joke, it's true,\n",
      "Life's a piece of shit,\n",
      "Other things just make you swear and curse.\n",
      "So always look on the bright side of death!\n",
      "Some things in life are bad,\n",
      "There's something you've forgotten!\n",
      "They can really make you mad.\n",
      "What have you lost? Nothing!\n",
      "When you look at it.\n",
      "When you're chewing on life's gristle,\n",
      "When you're feeling in the dumps,\n",
      "Worse things happen at sea you know\n",
      "You know, you come from nothing\n",
      "You must always face the curtain with a bow!\n",
      "You'll see it's all a show,\n",
      "You're going back to nothing\n"
     ]
    }
   ],
   "source": [
    "alphabetize(song)"
   ]
  },
  {
   "cell_type": "markdown",
   "metadata": {},
   "source": [
    "#### Run your function below to see if it works:"
   ]
  },
  {
   "cell_type": "code",
   "execution_count": 11,
   "metadata": {
    "answer_key": "alphabetize",
    "collapsed": false,
    "scrolled": true
   },
   "outputs": [
    {
     "name": "stdout",
     "output_type": "stream",
     "text": [
      "Always look on the bright side of life\n",
      "Always look on the bright side of life...\n",
      "Always look on the bright side of life...\n",
      "Always look on the bright side of life...\n",
      "Always look on the bright side of life...\n",
      "Always look on the bright side of life...\n",
      "Always look on the bright side of life...\n",
      "And always look on the bright side of life!\n",
      "And always look on the bright side of life...\n",
      "And always look on the bright side of life...\n",
      "And death's the final word.\n",
      "And that's to laugh and smile and dance and sing,\n",
      "And this'll help things turn out for the best...\n",
      "Cheer up, Brian.  You know what they say.\n",
      "Come on guys, cheer up\n",
      "Come on!\n",
      "Don't be silly chumps,\n",
      "Don't grumble, give a wistle!\n",
      "Enjoy it -- it's the last chance anyhow!\n",
      "For life is quite absurd,\n",
      "Forget about your sin -- give the audience a grin,\n",
      "I mean--what have you got to lose?\n",
      "If life seems jolly rotten,\n",
      "Just before you draw your terminal breath.\n",
      "Just purse your lips and whistle -- that's the thing!\n",
      "Just remember that the last laugh is on you!\n",
      "Keep 'em laughing as you go.\n",
      "Life's a laugh and death's a joke, it's true,\n",
      "Life's a piece of shit,\n",
      "Other things just make you swear and curse.\n",
      "So always look on the bright side of death!\n",
      "Some things in life are bad,\n",
      "There's something you've forgotten!\n",
      "They can really make you mad.\n",
      "What have you lost? Nothing!\n",
      "When you look at it.\n",
      "When you're chewing on life's gristle,\n",
      "When you're feeling in the dumps,\n",
      "Worse things happen at sea you know\n",
      "You know, you come from nothing\n",
      "You must always face the curtain with a bow!\n",
      "You'll see it's all a show,\n",
      "You're going back to nothing\n"
     ]
    }
   ],
   "source": [
    "alphabetize(song)"
   ]
  },
  {
   "cell_type": "markdown",
   "metadata": {},
   "source": [
    "### 5. Sort and select things"
   ]
  },
  {
   "cell_type": "code",
   "execution_count": 10,
   "metadata": {
    "collapsed": false
   },
   "outputs": [],
   "source": [
    "def nth_longest(song, n):\n",
    "    # to do: print the length of the nth longest line of song, ignoring blank lines\n",
    "    # NOTE:  python counts from 0\n",
    "    lines = [i for i in song.splitlines() if len(i) > 3]\n",
    "    lines = sorted(lines, key = len)\n",
    "    nth_longest = len(lines[n - 1])\n",
    "    print(nth_longest)"
   ]
  },
  {
   "cell_type": "markdown",
   "metadata": {},
   "source": [
    "#### Run your function below to see if it works:"
   ]
  },
  {
   "cell_type": "code",
   "execution_count": 11,
   "metadata": {
    "answer_key": "nth_longest",
    "collapsed": false
   },
   "outputs": [
    {
     "name": "stdout",
     "output_type": "stream",
     "text": [
      "28\n"
     ]
    }
   ],
   "source": [
    "nth_longest(song, 13)"
   ]
  },
  {
   "cell_type": "markdown",
   "metadata": {},
   "source": [
    "### 6. Ordinalize things"
   ]
  },
  {
   "cell_type": "code",
   "execution_count": 12,
   "metadata": {
    "collapsed": true
   },
   "outputs": [],
   "source": [
    "def sum_chars(song):\n",
    "    # to do: print the sum of the ordinal values of every character in song\n",
    "    number = sum([ord(i) for i in song])\n",
    "    print(number)"
   ]
  },
  {
   "cell_type": "markdown",
   "metadata": {},
   "source": [
    "#### Run your function below to see if it works:"
   ]
  },
  {
   "cell_type": "code",
   "execution_count": 13,
   "metadata": {
    "answer_key": "sum_chars",
    "collapsed": false
   },
   "outputs": [
    {
     "name": "stdout",
     "output_type": "stream",
     "text": [
      "139683\n"
     ]
    }
   ],
   "source": [
    "sum_chars(song)"
   ]
  }
 ],
 "metadata": {
  "kernelspec": {
   "display_name": "Python 3",
   "language": "python",
   "name": "python3"
  },
  "language_info": {
   "codemirror_mode": {
    "name": "ipython",
    "version": 3
   },
   "file_extension": ".py",
   "mimetype": "text/x-python",
   "name": "python",
   "nbconvert_exporter": "python",
   "pygments_lexer": "ipython3",
   "version": "3.4.4"
  },
  "notebook_key": "time_trials"
 },
 "nbformat": 4,
 "nbformat_minor": 0
}
