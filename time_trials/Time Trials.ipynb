{
 "cells": [
  {
   "cell_type": "markdown",
   "metadata": {},
   "source": [
    "## Python Olympics time trials"
   ]
  },
  {
   "cell_type": "code",
   "execution_count": 66,
   "metadata": {
    "collapsed": true
   },
   "outputs": [],
   "source": [
    "song = \"\"\"Cheer up, Brian.  You know what they say.\n",
    "Some things in life are bad,\n",
    "They can really make you mad.\n",
    "Other things just make you swear and curse.\n",
    "When you're chewing on life's gristle,\n",
    "Don't grumble, give a wistle!\n",
    "And this'll help things turn out for the best...\n",
    "And always look on the bright side of life!\n",
    " \n",
    "Always look on the bright side of life...\n",
    "If life seems jolly rotten,\n",
    "There's something you've forgotten!\n",
    "And that's to laugh and smile and dance and sing,\n",
    " \n",
    "When you're feeling in the dumps,\n",
    "Don't be silly chumps,\n",
    "Just purse your lips and whistle -- that's the thing!\n",
    "And always look on the bright side of life...\n",
    " \n",
    "Come on!\n",
    " \n",
    "Always look on the bright side of life...\n",
    " \n",
    "For life is quite absurd,\n",
    "And death's the final word.\n",
    "You must always face the curtain with a bow!\n",
    "Forget about your sin -- give the audience a grin,\n",
    "Enjoy it -- it's the last chance anyhow!\n",
    " \n",
    "So always look on the bright side of death!\n",
    "Just before you draw your terminal breath.\n",
    "Life's a piece of shit,\n",
    "When you look at it.\n",
    " \n",
    "Life's a laugh and death's a joke, it's true,\n",
    "You'll see it's all a show,\n",
    "Keep 'em laughing as you go.\n",
    "Just remember that the last laugh is on you!\n",
    " \n",
    "And always look on the bright side of life...\n",
    "Always look on the bright side of life\n",
    "\n",
    "Come on guys, cheer up\n",
    "\n",
    "Always look on the bright side of life...\n",
    "\n",
    "Always look on the bright side of life...\n",
    "\n",
    "Worse things happen at sea you know\n",
    "\n",
    "Always look on the bright side of life...\n",
    "\n",
    "I mean--what have you got to lose?\n",
    "You know, you come from nothing\n",
    "You're going back to nothing\n",
    "What have you lost? Nothing!\n",
    "\n",
    "Always look on the bright side of life...\"\"\""
   ]
  },
  {
   "cell_type": "markdown",
   "metadata": {},
   "source": [
    "### 1. Capitalize things"
   ]
  },
  {
   "cell_type": "code",
   "execution_count": null,
   "metadata": {
    "collapsed": true
   },
   "outputs": [],
   "source": [
    "def all_caps(song):\n",
    "    # to do: print song with all uppercase characters\n",
    "    print(song)"
   ]
  },
  {
   "cell_type": "markdown",
   "metadata": {},
   "source": [
    "#### Run this cell to see if it works:"
   ]
  },
  {
   "cell_type": "code",
   "execution_count": 1,
   "metadata": {
    "answer_key": "all_caps",
    "collapsed": true
   },
   "outputs": [],
   "source": [
    "all_caps(song)"
   ]
  },
  {
   "cell_type": "markdown",
   "metadata": {},
   "source": [
    "### 2. Count things"
   ]
  },
  {
   "cell_type": "code",
   "execution_count": null,
   "metadata": {
    "collapsed": true
   },
   "outputs": [],
   "source": [
    "def count_life(song):\n",
    "    # to do: print the number of times that the strings \"life\" and \"Life\" occurs in song\n",
    "    print(count)"
   ]
  },
  {
   "cell_type": "markdown",
   "metadata": {},
   "source": [
    "#### Run your function below to see if it works:"
   ]
  },
  {
   "cell_type": "code",
   "execution_count": 9,
   "metadata": {
    "answer_key": "count_life",
    "collapsed": true
   },
   "outputs": [],
   "source": [
    "count_life(song)"
   ]
  },
  {
   "cell_type": "markdown",
   "metadata": {},
   "source": [
    "### 3. Replace things"
   ]
  },
  {
   "cell_type": "code",
   "execution_count": null,
   "metadata": {
    "collapsed": true
   },
   "outputs": [],
   "source": [
    "def spamify(song):\n",
    "    # to do: print song with every instance of the string \"life\" replaced with \"spam\" and \"Life\" with \"Spam\"\n",
    "    print(song)"
   ]
  },
  {
   "cell_type": "markdown",
   "metadata": {},
   "source": [
    "#### Run your function below to see if it works:"
   ]
  },
  {
   "cell_type": "code",
   "execution_count": null,
   "metadata": {
    "answer_key": "spamify",
    "collapsed": true
   },
   "outputs": [],
   "source": [
    "spamify(song)"
   ]
  },
  {
   "cell_type": "markdown",
   "metadata": {},
   "source": [
    "### 4. Sort things"
   ]
  },
  {
   "cell_type": "code",
   "execution_count": null,
   "metadata": {
    "answer_key": "alphabetize",
    "collapsed": true
   },
   "outputs": [],
   "source": [
    "def alphabetize(song):\n",
    "    # to do: print song with its lines ordered alphabetically and without blank lines.\n",
    "    # for example, with this input string:\n",
    "    #\n",
    "    # \"\"\"And always look on the bright side of life!\n",
    "    #\n",
    "    # Always look on the bright side of life...\"\"\"\n",
    "    #\n",
    "    # ---> this string is printed --->\n",
    "    #\n",
    "    # \"\"\"Always look on the bright side of life...\n",
    "    # And always look on the bright side of life!\"\"\"\n",
    "    print(song)"
   ]
  },
  {
   "cell_type": "markdown",
   "metadata": {},
   "source": [
    "#### Run your function below to see if it works:"
   ]
  },
  {
   "cell_type": "code",
   "execution_count": null,
   "metadata": {
    "answer_key": "alphabetize",
    "collapsed": true
   },
   "outputs": [],
   "source": [
    "alphabetize(song)"
   ]
  },
  {
   "cell_type": "markdown",
   "metadata": {},
   "source": [
    "### 5. Sort and select things"
   ]
  },
  {
   "cell_type": "code",
   "execution_count": 64,
   "metadata": {
    "collapsed": false
   },
   "outputs": [],
   "source": [
    "def nth_longest(song, n):\n",
    "    # to do: print the length of the nth longest line of song\n",
    "    # NOTE:  python counts from 0\n",
    "    print(nth_longest_length)"
   ]
  },
  {
   "cell_type": "markdown",
   "metadata": {},
   "source": [
    "#### Run your function below to see if it works:"
   ]
  },
  {
   "cell_type": "code",
   "execution_count": null,
   "metadata": {
    "answer_key": "nth_longest",
    "collapsed": true
   },
   "outputs": [],
   "source": [
    "nth_longest(song, 13)"
   ]
  },
  {
   "cell_type": "markdown",
   "metadata": {},
   "source": [
    "### 6. Ordinalize things"
   ]
  },
  {
   "cell_type": "code",
   "execution_count": null,
   "metadata": {
    "collapsed": true
   },
   "outputs": [],
   "source": [
    "def sum_chars(song):\n",
    "    # to do: print the sum of the ordinal values of the characters in song\n",
    "    print(number)"
   ]
  },
  {
   "cell_type": "markdown",
   "metadata": {},
   "source": [
    "#### Run your function below to see if it works:"
   ]
  },
  {
   "cell_type": "code",
   "execution_count": null,
   "metadata": {
    "answer_key": "sum_chars",
    "collapsed": true
   },
   "outputs": [],
   "source": [
    "sum_chars(song)"
   ]
  }
 ],
 "metadata": {
  "kernelspec": {
   "display_name": "Python 3",
   "language": "python",
   "name": "python3"
  },
  "language_info": {
   "codemirror_mode": {
    "name": "ipython",
    "version": 3
   },
   "file_extension": ".py",
   "mimetype": "text/x-python",
   "name": "python",
   "nbconvert_exporter": "python",
   "pygments_lexer": "ipython3",
   "version": "3.4.4"
  },
  "notebook_key": "time_trials"
 },
 "nbformat": 4,
 "nbformat_minor": 0
}
